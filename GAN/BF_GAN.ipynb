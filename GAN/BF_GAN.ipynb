{
 "cells": [
  {
   "cell_type": "code",
   "execution_count": 1,
   "id": "1f53dac2",
   "metadata": {},
   "outputs": [],
   "source": [
    "import pandas as pd \n",
    "import os\n",
    "from PIL import Image\n",
    "import matplotlib.pyplot as plt\n",
    "import numpy as np\n",
    "import torch\n",
    "from torch.utils.data import Dataset\n",
    "from torchvision import transforms\n",
    "from torchvision.io import read_image\n",
    "from torch.utils.data import DataLoader\n"
   ]
  },
  {
   "cell_type": "code",
   "execution_count": 2,
   "id": "21c2e33b",
   "metadata": {},
   "outputs": [],
   "source": [
    "train = pd.read_csv(r'C:\\Users\\Felipe\\Projetos\\Jelly GAN\\archive (1)\\Butterfly Identification\\Training_set.csv')\n",
    "test = pd.read_csv(r'C:\\Users\\Felipe\\Projetos\\Jelly GAN\\archive (1)\\Butterfly Identification\\Testing_set.csv')"
   ]
  },
  {
   "cell_type": "code",
   "execution_count": null,
   "id": "e66a172a",
   "metadata": {},
   "outputs": [],
   "source": []
  },
  {
   "cell_type": "code",
   "execution_count": 3,
   "id": "f4b13882",
   "metadata": {},
   "outputs": [],
   "source": [
    "train_dir = 'archive (1)/Butterfly Identification/train'\n",
    "test_dir = 'archive (1)/Butterfly Identification/test'"
   ]
  },
  {
   "cell_type": "code",
   "execution_count": 4,
   "id": "1dd66535",
   "metadata": {},
   "outputs": [],
   "source": [
    "image_files = []\n",
    "\n",
    "for i in range(len(train)):\n",
    "    filename = train.iloc[i,0]\n",
    "    image_files += [os.path.join(train_dir, filename)] \n",
    "    \n",
    "for j in range(len(test)):\n",
    "    filename = test.iloc[j,0]\n",
    "    image_files += [os.path.join(test_dir,filename)]"
   ]
  },
  {
   "cell_type": "code",
   "execution_count": 5,
   "id": "ad726b74",
   "metadata": {},
   "outputs": [
    {
     "name": "stdout",
     "output_type": "stream",
     "text": [
      "9285\n"
     ]
    }
   ],
   "source": [
    "image_file_list = image_files\n",
    "num_total = len(image_files)\n",
    "print(num_total)"
   ]
  },
  {
   "cell_type": "code",
   "execution_count": 6,
   "id": "f6a04f97",
   "metadata": {},
   "outputs": [
    {
     "data": {
      "text/plain": [
       "ToTensor()"
      ]
     },
     "execution_count": 6,
     "metadata": {},
     "output_type": "execute_result"
    }
   ],
   "source": [
    "transforms.ToTensor()"
   ]
  },
  {
   "cell_type": "code",
   "execution_count": 11,
   "id": "481689fa",
   "metadata": {},
   "outputs": [],
   "source": [
    "class Bf_dataset(Dataset):\n",
    "    def __init__(self,image_files):\n",
    "        self.image_files = image_files\n",
    "        self.transform = transforms.ToTensor()\n",
    "        \n",
    "    def __len__(self):\n",
    "        return len(self.image_files)\n",
    "    \n",
    "    def __getitem__(self,idx):\n",
    "        image = Image.open(self.image_files[idx])\n",
    "        if self.transform:\n",
    "            image = self.transform(image)\n",
    "        return image"
   ]
  },
  {
   "cell_type": "code",
   "execution_count": 12,
   "id": "491d8585",
   "metadata": {},
   "outputs": [],
   "source": [
    "mydata = Bf_dataset(image_file_list)"
   ]
  },
  {
   "cell_type": "code",
   "execution_count": 13,
   "id": "ad7d3e1a",
   "metadata": {},
   "outputs": [],
   "source": [
    "dataloader = DataLoader(mydata,batch_size=64, shuffle=True)"
   ]
  },
  {
   "cell_type": "code",
   "execution_count": null,
   "id": "b9e88652",
   "metadata": {},
   "outputs": [],
   "source": []
  }
 ],
 "metadata": {
  "kernelspec": {
   "display_name": "Python 3 (ipykernel)",
   "language": "python",
   "name": "python3"
  },
  "language_info": {
   "codemirror_mode": {
    "name": "ipython",
    "version": 3
   },
   "file_extension": ".py",
   "mimetype": "text/x-python",
   "name": "python",
   "nbconvert_exporter": "python",
   "pygments_lexer": "ipython3",
   "version": "3.11.7"
  }
 },
 "nbformat": 4,
 "nbformat_minor": 5
}
