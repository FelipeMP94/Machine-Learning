{
 "cells": [
  {
   "cell_type": "code",
   "execution_count": null,
   "id": "e636b788",
   "metadata": {},
   "outputs": [],
   "source": [
    "from minisom import MiniSom\n",
    "import sklearn.datasets\n",
    "import numpy as np\n",
    "import pandas as pd\n",
    "import seaborn as sns\n",
    "from sklearn.preprocessing import MinMaxScaler, StandardScaler\n",
    "import matplotlib.pyplot as plt\n",
    "from matplotlib.pyplot import figure"
   ]
  },
  {
   "cell_type": "code",
   "execution_count": null,
   "id": "e3025aa5",
   "metadata": {},
   "outputs": [],
   "source": [
    "Dados_risco_materno = pd.read_csv('/content/Maternal Health Risk Data Set.csv')\n",
    "X= Dados_risco_materno.drop(['RiskLevel'],axis = 1)\n",
    "normalizador = MinMaxScaler()\n",
    "X_norm= pd.DataFrame(normalizador.fit_transform(X), columns=X.columns)\n",
    "\n",
    "labels = Dados_risco_materno.RiskLevel.unique()\n",
    "Y = pd.get_dummies(Dados_risco_materno.RiskLevel)"
   ]
  },
  {
   "cell_type": "markdown",
   "id": "35434357",
   "metadata": {},
   "source": []
  },
  {
   "cell_type": "code",
   "execution_count": null,
   "id": "c5ae3902",
   "metadata": {},
   "outputs": [],
   "source": [
    "sigma = 16\n",
    "eta = 0.1\n",
    "epocas = 1000\n",
    "random_seed = 5\n",
    "\n",
    "neighborhood_function = 'gaussian'\n",
    "topology = 'rectangular'\n",
    "neuD1 = 30 # número de neurônios (dimensão 01 - linhas)\n",
    "neuD2 = 20 # número de neurônios (dimensao 02 - colunas)\n",
    "print(epocas*len(X.values))"
   ]
  },
  {
   "cell_type": "code",
   "execution_count": null,
   "id": "c76cdcfe",
   "metadata": {},
   "outputs": [],
   "source": [
    "som = MiniSom(neuD1, neuD2, X_norm.shape[1],\n",
    "              sigma=sigma,\n",
    "              learning_rate=eta,\n",
    "              neighborhood_function=neighborhood_function,\n",
    "              random_seed=random_seed)\n",
    "q_error = []\n",
    "t_error = []\n",
    "\n",
    "\n",
    "som.random_weights_init(X_norm.values)\n",
    "som.train_random(X_norm.values, epocas)\n",
    "\n",
    "print(epocas*len(X_norm.values))"
   ]
  },
  {
   "cell_type": "code",
   "execution_count": null,
   "id": "880324bf",
   "metadata": {},
   "outputs": [],
   "source": [
    "figure (figsize=(5,5),dpi=100)\n",
    "plt.imshow(som.distance_map(), cmap='Blues')\n",
    "plt.title('U-Matrix')\n",
    "plt.colorbar()\n",
    "plt.show()"
   ]
  },
  {
   "cell_type": "code",
   "execution_count": null,
   "id": "479ff379",
   "metadata": {},
   "outputs": [],
   "source": [
    "Dados_risco_materno['RiskLevel'].replace(Dados_risco_materno['RiskLevel'].unique(), [0,1,2], inplace=True)\n",
    "target = Dados_risco_materno['RiskLevel'].values"
   ]
  },
  {
   "cell_type": "code",
   "execution_count": null,
   "id": "cd4eb670",
   "metadata": {},
   "outputs": [],
   "source": [
    "w_x, w_y = zip(*[som.winner(d) for d in X_norm.values])\n",
    "w_x = np.array(w_x)\n",
    "w_y = np.array(w_y)\n",
    "\n",
    "figure (figsize=(8,5),dpi=100)\n",
    "plt.pcolor(som.distance_map().T, cmap='Blues', alpha=.2)\n",
    "plt.colorbar()\n",
    "\n",
    "for c in np.unique(target):\n",
    "    idx_target = target==c\n",
    "    plt.scatter(w_x[idx_target]+.5+(np.random.rand(np.sum(idx_target))-.5)*.8,\n",
    "                w_y[idx_target]+.5+(np.random.rand(np.sum(idx_target))-.5)*.8,\n",
    "                s=50, label=target[c])\n",
    "plt.grid()\n",
    "plt.show()"
   ]
  },
  {
   "cell_type": "code",
   "execution_count": null,
   "id": "04e61146",
   "metadata": {},
   "outputs": [],
   "source": [
    "weights = som.get_weights()\n",
    "figure (figsize=(5,5),dpi=100)\n",
    "plt.title('Heat Map: Idade')\n",
    "plt.imshow(weights[:, :, 0], cmap='nipy_spectral')\n",
    "plt.colorbar()\n",
    "plt.show()\n",
    "\n",
    "figure (figsize=(5,5),dpi=100)\n",
    "plt.title('Heat Map: Pressão Systólica')\n",
    "plt.imshow(weights[:, :, 1], cmap='nipy_spectral')\n",
    "plt.colorbar()\n",
    "plt.show()\n",
    "\n",
    "figure (figsize=(5,5),dpi=100)\n",
    "plt.title('Heat Map: Pressão Diastolica')\n",
    "plt.imshow(weights[:, :, 2], cmap='nipy_spectral')\n",
    "plt.colorbar()\n",
    "plt.show()\n",
    "\n",
    "figure (figsize=(5,5),dpi=100)\n",
    "plt.title('Heat Map: Glícemia')\n",
    "plt.imshow(weights[:, :, 3], cmap='nipy_spectral')\n",
    "plt.colorbar()\n",
    "plt.show()\n",
    "\n",
    "figure (figsize=(5,5),dpi=100)\n",
    "plt.title('Heat Map: Temperatura do corpo')\n",
    "plt.imshow(weights[:, :, 4], cmap='nipy_spectral')\n",
    "plt.colorbar()\n",
    "plt.show()\n",
    "\n",
    "figure (figsize=(5,5),dpi=100)\n",
    "plt.title('Heat Map: Frequência Cardíaca')\n",
    "plt.imshow(weights[:, :, 5], cmap='nipy_spectral')\n",
    "plt.colorbar()\n",
    "plt.show()"
   ]
  }
 ],
 "metadata": {
  "kernelspec": {
   "display_name": "Python 3 (ipykernel)",
   "language": "python",
   "name": "python3"
  },
  "language_info": {
   "codemirror_mode": {
    "name": "ipython",
    "version": 3
   },
   "file_extension": ".py",
   "mimetype": "text/x-python",
   "name": "python",
   "nbconvert_exporter": "python",
   "pygments_lexer": "ipython3",
   "version": "3.11.5"
  }
 },
 "nbformat": 4,
 "nbformat_minor": 5
}
